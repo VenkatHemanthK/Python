{
 "cells": [
  {
   "cell_type": "code",
   "execution_count": 1,
   "id": "2edfbd36",
   "metadata": {},
   "outputs": [
    {
     "name": "stdout",
     "output_type": "stream",
     "text": [
      "5 --> 10 --> 20 --> 50 --> "
     ]
    }
   ],
   "source": [
    "class Node():\n",
    "    def __init__(self,data):\n",
    "        self.data = data\n",
    "        self.next = None\n",
    "class SingleLL():\n",
    "    def __init__ (self):\n",
    "        self.head = None\n",
    "\n",
    "    def display(self):\n",
    "        if self.head is None:\n",
    "            print(\"Empty Linked List\")\n",
    "        temp = self.head\n",
    "        while temp:\n",
    "            print(temp.data,'--> ' , end = '')\n",
    "            temp = temp.next\n",
    "\n",
    "    def InsertAtBeginning(self):\n",
    "        new_node = Node(5)\n",
    "        new_node.next = self.head\n",
    "        self.head = new_node\n",
    "\n",
    "    def InsertAtEnd(self):\n",
    "        new_node = Node(50)\n",
    "        temp = self.head\n",
    "        while temp.next:\n",
    "            temp = temp.next\n",
    "        temp.next = new_node\n",
    "\n",
    "    def InsertAnywhere(self):\n",
    "        idx = 3\n",
    "        new_node = Node(25)\n",
    "        temp = self.head\n",
    "        for _ in range(idx - 1):\n",
    "            temp = temp.next\n",
    "        temp.next = new_node.next\n",
    "        temp.next = new_node\n",
    "\n",
    "    def DeleteAtBeginning(self):\n",
    "        temp = self.head\n",
    "        self.head = temp.next\n",
    "        temp.next = None\n",
    "\n",
    "    def DeleteAtEnd(self):\n",
    "        temp = self.head.next\n",
    "        prev = self.head\n",
    "        while temp.next:\n",
    "            temp = temp.next\n",
    "            prev = prev.next\n",
    "        prev.next = None\n",
    "\n",
    "    def DeleteAnywhere(self):\n",
    "        idx = 3\n",
    "        temp = self.head.next\n",
    "        prev = self.head\n",
    "        for _ in range(idx-1):\n",
    "            temp = temp.next\n",
    "            prev = prev.next\n",
    "        prev.next = temp.next\n",
    "        temp.next = None\n",
    "        \n",
    "a = SingleLL()\n",
    "a1 = Node(10)\n",
    "a.head = a1\n",
    "a2 = Node(20)\n",
    "a1.next=a2\n",
    "a3 = Node(30)\n",
    "a2.next = a3\n",
    "a.InsertAtBeginning()\n",
    "a.InsertAnywhere()\n",
    "a.InsertAtEnd()\n",
    "a.DeleteAnywhere()\n",
    "a.display()\n",
    "\n"
   ]
  }
 ],
 "metadata": {
  "kernelspec": {
   "display_name": "Python 3",
   "language": "python",
   "name": "python3"
  },
  "language_info": {
   "codemirror_mode": {
    "name": "ipython",
    "version": 3
   },
   "file_extension": ".py",
   "mimetype": "text/x-python",
   "name": "python",
   "nbconvert_exporter": "python",
   "pygments_lexer": "ipython3",
   "version": "3.10.17"
  }
 },
 "nbformat": 4,
 "nbformat_minor": 5
}
