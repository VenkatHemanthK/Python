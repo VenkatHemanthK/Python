{
 "cells": [
  {
   "cell_type": "markdown",
   "id": "d99c8528",
   "metadata": {},
   "source": [
    "Queue implemented using Linked List - First In First Out"
   ]
  },
  {
   "cell_type": "code",
   "execution_count": 1,
   "id": "f193e00b",
   "metadata": {},
   "outputs": [
    {
     "name": "stdout",
     "output_type": "stream",
     "text": [
      "10->20->30->40->None\n",
      "popped element is 10\n",
      "20->30->40->None\n",
      "top element is 20\n",
      "popped element is 20\n",
      "popped element is 30\n",
      "40->None\n",
      "top element is 40\n"
     ]
    }
   ],
   "source": [
    "class Node():\n",
    "    def __init__(self,data):\n",
    "        self.data = data\n",
    "        self.next = None\n",
    "\n",
    "class QueueWithLL():\n",
    "    def __init__(self):\n",
    "        self.head = None\n",
    "    \n",
    "    def push(self,data):\n",
    "        newnode = Node(data)\n",
    "        if not self.head:\n",
    "            self.head = newnode\n",
    "            return\n",
    "        temp = self.head\n",
    "        while temp.next!=None:\n",
    "            temp = temp.next\n",
    "        temp.next=newnode\n",
    "\n",
    "    def pop(self):\n",
    "        if not self.head:\n",
    "            return \"ll is empty\"\n",
    "        temp = self.head\n",
    "        self.head = self.head.next\n",
    "        temp.next = None\n",
    "        return temp.data\n",
    "    \n",
    "    def peek(self):\n",
    "        if not self.head:\n",
    "            return \"ll is empty\"\n",
    "        return self.head.data\n",
    "    \n",
    "    def display(self):\n",
    "        temp = self.head\n",
    "        while temp !=None:\n",
    "            print(temp.data,end='->')\n",
    "            temp = temp.next\n",
    "        print('None')\n",
    "\n",
    "\n",
    "q = QueueWithLL()\n",
    "q.push(10)\n",
    "q.push(20)\n",
    "q.push(30)\n",
    "q.push(40)\n",
    "q.display()\n",
    "print('popped element is',q.pop())\n",
    "q.display()\n",
    "print('top element is',q.peek())\n",
    "print('popped element is',q.pop())\n",
    "print('popped element is',q.pop())\n",
    "q.display()\n",
    "print('top element is',q.peek())"
   ]
  }
 ],
 "metadata": {
  "kernelspec": {
   "display_name": "Python 3",
   "language": "python",
   "name": "python3"
  },
  "language_info": {
   "codemirror_mode": {
    "name": "ipython",
    "version": 3
   },
   "file_extension": ".py",
   "mimetype": "text/x-python",
   "name": "python",
   "nbconvert_exporter": "python",
   "pygments_lexer": "ipython3",
   "version": "3.10.17"
  }
 },
 "nbformat": 4,
 "nbformat_minor": 5
}
