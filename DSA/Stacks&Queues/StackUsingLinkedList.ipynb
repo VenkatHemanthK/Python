{
 "cells": [
  {
   "cell_type": "markdown",
   "id": "6bde14b3",
   "metadata": {},
   "source": [
    "Stack implemented using Linked List (LIFO: Last In, First Out)\n",
    "\n"
   ]
  },
  {
   "cell_type": "code",
   "execution_count": 1,
   "id": "ffa48358",
   "metadata": {},
   "outputs": [
    {
     "name": "stdout",
     "output_type": "stream",
     "text": [
      "40->30->20->10->None\n",
      "popped element is: 40\n",
      "30->20->10->None\n",
      "top element is 30\n",
      "popped element is: 30\n",
      "20->10->None\n",
      "top element is 20\n",
      "popped element is: 20\n",
      "10->None\n"
     ]
    }
   ],
   "source": [
    "class Node():\n",
    "    def __init__(self,data):\n",
    "        self.data = data\n",
    "        self.next = None\n",
    "\n",
    "class StacksWithLL():\n",
    "    def __init__(self):\n",
    "        self.head = None\n",
    "\n",
    "    def push(self,data):\n",
    "        newnode = Node(data)\n",
    "        newnode.next = self.head\n",
    "        self.head = newnode\n",
    "        \n",
    "    def pop(self):\n",
    "        if self.head == None:\n",
    "            return 'll is empty'\n",
    "        temp = self.head\n",
    "        a = temp.data\n",
    "        self.head = self.head.next\n",
    "        temp.next = None\n",
    "        return a\n",
    "\n",
    "    def peek(self):\n",
    "        if self.head == None:\n",
    "            return 'll is empty'\n",
    "        return self.head.data\n",
    "\n",
    "    def display(self):\n",
    "        temp = self.head\n",
    "        while temp !=None:\n",
    "            print(temp.data,end='->')\n",
    "            temp = temp.next\n",
    "        print('None')\n",
    "    \n",
    "s = StacksWithLL()\n",
    "s.push(10)\n",
    "s.push(20)\n",
    "s.push(30)\n",
    "s.push(40)\n",
    "s.display()\n",
    "print('popped element is:',s.pop())\n",
    "s.display()\n",
    "print('top element is',s.peek())\n",
    "print('popped element is:',s.pop())\n",
    "s.display()\n",
    "print('top element is',s.peek())\n",
    "print('popped element is:',s.pop())  \n",
    "s.display() \n"
   ]
  }
 ],
 "metadata": {
  "kernelspec": {
   "display_name": "Python 3",
   "language": "python",
   "name": "python3"
  },
  "language_info": {
   "codemirror_mode": {
    "name": "ipython",
    "version": 3
   },
   "file_extension": ".py",
   "mimetype": "text/x-python",
   "name": "python",
   "nbconvert_exporter": "python",
   "pygments_lexer": "ipython3",
   "version": "3.10.17"
  }
 },
 "nbformat": 4,
 "nbformat_minor": 5
}
