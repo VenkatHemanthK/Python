{
 "cells": [
  {
   "cell_type": "code",
   "execution_count": 1,
   "id": "86c847d0",
   "metadata": {},
   "outputs": [
    {
     "name": "stdout",
     "output_type": "stream",
     "text": [
      "10 20 30 \n",
      "20 30 \n",
      "20 30 \n"
     ]
    }
   ],
   "source": [
    "class queueWithArr():\n",
    "    def __init__(self,size):\n",
    "        self.start = -1\n",
    "        self.end = -1\n",
    "        self.size = size\n",
    "        self.curr_size = 0\n",
    "        self.arr = [None] *  size  \n",
    "\n",
    "    def push(self,data):\n",
    "        if self.size == self.curr_size:\n",
    "            print(\"Queue is full\")\n",
    "            return\n",
    "        if self.curr_size == 0:\n",
    "            self.start = 0\n",
    "        \n",
    "        self.end = (self.end + 1) % self.size\n",
    "        self.arr[self.end] = data\n",
    "        self.curr_size += 1\n",
    "\n",
    "    def pop(self):\n",
    "        if self.curr_size == 0:\n",
    "            print(\"No elements\")\n",
    "                    \n",
    "        e = self.arr[self.start]\n",
    "\n",
    "        if self.curr_size == 1:\n",
    "            self.start = -1\n",
    "            self.end = -1\n",
    "\n",
    "        self.start = (self.start + 1) % self.size\n",
    "        self.curr_size -= 1\n",
    "        return e \n",
    "\n",
    "\n",
    "    def top(self):\n",
    "        if self.arr[self.start] == -1:\n",
    "            print(\"No elements in the Queue\")\n",
    "        self.arr[self.start]\n",
    "\n",
    "    def display(self):\n",
    "        if self.curr_size == 0:\n",
    "            print(\"No elements in the queue\")\n",
    "        \n",
    "        for _ in range(self.curr_size):\n",
    "            print(self.arr[self.start], end = ' ')\n",
    "            self.start = (self.start + 1) % self.size\n",
    "        print()\n",
    "\n",
    "q = queueWithArr(3)\n",
    "q.push(10)\n",
    "q.push(20)\n",
    "q.push(30)\n",
    "q.display()\n",
    "q.pop()\n",
    "q.display()\n",
    "q.push(50)\n",
    "q.pop()\n",
    "q.display()\n",
    "\n",
    "\n",
    "\n"
   ]
  }
 ],
 "metadata": {
  "kernelspec": {
   "display_name": "Python 3",
   "language": "python",
   "name": "python3"
  },
  "language_info": {
   "codemirror_mode": {
    "name": "ipython",
    "version": 3
   },
   "file_extension": ".py",
   "mimetype": "text/x-python",
   "name": "python",
   "nbconvert_exporter": "python",
   "pygments_lexer": "ipython3",
   "version": "3.10.17"
  }
 },
 "nbformat": 4,
 "nbformat_minor": 5
}
