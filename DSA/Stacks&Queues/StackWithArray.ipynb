{
 "cells": [
  {
   "cell_type": "code",
   "execution_count": 1,
   "id": "63a0ef73",
   "metadata": {},
   "outputs": [
    {
     "name": "stdout",
     "output_type": "stream",
     "text": [
      "[1, 2, 3]\n",
      "3\n",
      "[1, 2]\n",
      "size: 2\n",
      "2\n"
     ]
    }
   ],
   "source": [
    "class StackWithArr():\n",
    "    def __init__(self,capacity):\n",
    "        self.capacity = capacity\n",
    "        self.stack = [None] * capacity\n",
    "        self.top = -1\n",
    "        \n",
    "    def push(self,data):\n",
    "        if self.top == self.capacity - 1:\n",
    "            print(\"Stack is Full\")\n",
    "        else:\n",
    "            self.top += 1\n",
    "            self.stack[self.top] = data\n",
    "            \n",
    "    def pop(self):\n",
    "        if self.top == -1:\n",
    "            print(\"Stack is Empty\")\n",
    "        n = self.stack[self.top]\n",
    "        self.top -= 1\n",
    "        print(n)\n",
    "        \n",
    "    def display(self):\n",
    "        if self.top == -1:\n",
    "            print(\"Stack is Empty\")\n",
    "        print(self.stack[: self.top+1])\n",
    "        \n",
    "    def peek(self):\n",
    "        if self.top == -1:\n",
    "            print(\"Stack is Empty\")\n",
    "        print(self.stack[self.top])\n",
    "        \n",
    "    def size(self):\n",
    "        if self.top == -1:\n",
    "            print(\"Empty\")\n",
    "            return\n",
    "        print('size:', self.top+1)\n",
    "        \n",
    "s = StackWithArr(5)\n",
    "s.push(1)\n",
    "s.push(2)\n",
    "s.push(3)\n",
    "s.display()\n",
    "s.pop()\n",
    "s.display()\n",
    "s.size()\n",
    "s.peek()"
   ]
  }
 ],
 "metadata": {
  "kernelspec": {
   "display_name": "Python 3",
   "language": "python",
   "name": "python3"
  },
  "language_info": {
   "codemirror_mode": {
    "name": "ipython",
    "version": 3
   },
   "file_extension": ".py",
   "mimetype": "text/x-python",
   "name": "python",
   "nbconvert_exporter": "python",
   "pygments_lexer": "ipython3",
   "version": "3.10.17"
  }
 },
 "nbformat": 4,
 "nbformat_minor": 5
}
