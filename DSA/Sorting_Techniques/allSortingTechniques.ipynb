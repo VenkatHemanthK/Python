{
 "cells": [
  {
   "cell_type": "markdown",
   "id": "29500977",
   "metadata": {},
   "source": [
    "1. Bubble Sort - O(n²)\n",
    "\n",
    "    It Continuously compares and swaps neighboring elements if they are out of order, pushing larger elements toward the end in each pass.\n"
   ]
  },
  {
   "cell_type": "code",
   "execution_count": 7,
   "id": "b410155a",
   "metadata": {},
   "outputs": [],
   "source": [
    "def bubble_sort(arr):\n",
    "    n = len(arr)\n",
    "    for i in range(n):\n",
    "        for j in range(n-i-1):\n",
    "            if arr[j]>arr[j+1]:\n",
    "                arr[j],arr[j+1] = arr[j+1],arr[j]\n",
    "    \n",
    "    return arr"
   ]
  },
  {
   "cell_type": "markdown",
   "id": "d448d3bf",
   "metadata": {},
   "source": [
    "2. Selection Sort - O(n²)\n",
    "\n",
    "    It Repeatedly selects the smallest element from the unsorted portion and swaps it into its correct position in the sorted part of the list.\n"
   ]
  },
  {
   "cell_type": "code",
   "execution_count": 1,
   "id": "6c17b37d",
   "metadata": {},
   "outputs": [],
   "source": [
    "def selection_sort(arr):\n",
    "    n = len(arr)\n",
    "    for i in range(n):\n",
    "        cmin = arr[i]\n",
    "        ind = i\n",
    "        for j in range(i+1,n):\n",
    "            if arr[j]<cmin:\n",
    "                cmin = arr[j]\n",
    "                ind = j\n",
    "        \n",
    "        arr[i],arr[ind] = arr[ind],arr[i]\n",
    "    \n",
    "    return arr"
   ]
  },
  {
   "cell_type": "markdown",
   "id": "351ee1af",
   "metadata": {},
   "source": [
    "3. Insertion Sort - O(n²)\n",
    "\n",
    "    It Divides the list into a sorted and an unsorted section. Picks elements from the unsorted part and inserts them into their correct position in the sorted part by shifting larger elements to the right.\n"
   ]
  },
  {
   "cell_type": "code",
   "execution_count": 2,
   "id": "3ddde4a7",
   "metadata": {},
   "outputs": [],
   "source": [
    "def insertion_sort(arr):\n",
    "    n = len(arr)\n",
    "    for i in range(1,n):\n",
    "        key = arr[i]\n",
    "        j = i-1\n",
    "        while j>=0 and arr[j]>key:\n",
    "            arr[j+1]=arr[j]\n",
    "            j-=1\n",
    "        arr[j+1] = key \n",
    "\n",
    "    return arr"
   ]
  },
  {
   "cell_type": "markdown",
   "id": "30573306",
   "metadata": {},
   "source": [
    "4. Merge Sort - O(n log n)\n",
    "\n",
    "    It Divides the array into halves, sorts them, and merges them back."
   ]
  },
  {
   "cell_type": "code",
   "execution_count": 3,
   "id": "9c8bdeae",
   "metadata": {},
   "outputs": [],
   "source": [
    "def merge_sort(arr):\n",
    "    if len(arr) > 1:\n",
    "        mid = len(arr) // 2\n",
    "        left = arr[:mid]\n",
    "        right = arr[mid:]\n",
    "\n",
    "        merge_sort(left)\n",
    "        merge_sort(right)\n",
    "\n",
    "        i = j = k = 0\n",
    "        while i < len(left) and j < len(right):\n",
    "            if left[i] < right[j]:\n",
    "                arr[k] = left[i]\n",
    "                i += 1\n",
    "            else:\n",
    "                arr[k] = right[j]\n",
    "                j += 1\n",
    "            k += 1\n",
    "\n",
    "        while i < len(left):\n",
    "            arr[k] = left[i]\n",
    "            i += 1\n",
    "            k += 1\n",
    "\n",
    "        while j < len(right):\n",
    "            arr[k] = right[j]\n",
    "            j += 1\n",
    "            k += 1\n",
    "\n",
    "    return arr"
   ]
  },
  {
   "cell_type": "markdown",
   "id": "01bcf714",
   "metadata": {},
   "source": [
    "5. Quick Sort - O(n log n) for average and O(n²) for worst\n",
    "\n",
    "    It Selects a pivot element and partitions the array into two parts: elements less than the pivot go to the left, and elements greater go to the right. Recursively applies the same logic to the subarrays.\n"
   ]
  },
  {
   "cell_type": "code",
   "execution_count": 4,
   "id": "c6317612",
   "metadata": {},
   "outputs": [],
   "source": [
    "def quick_sort(lst):\n",
    "    if len(lst) <= 1:\n",
    "        return lst\n",
    "    pivot_elem = lst[len(lst) // 2]\n",
    "    smaller = [num for num in lst if num < pivot_elem]\n",
    "    equal = [num for num in lst if num == pivot_elem]\n",
    "    larger = [num for num in lst if num > pivot_elem]\n",
    "    return quick_sort(smaller) + equal + quick_sort(larger)"
   ]
  },
  {
   "cell_type": "markdown",
   "id": "7e62b453",
   "metadata": {},
   "source": [
    "6. Heap Sort - O(n log n)\n",
    "\n",
    "    It Builds a binary heap from the input data, then repeatedly extracts the maximum (or minimum) element from the heap and rebuilds the heap until all elements are sorted.\n"
   ]
  },
  {
   "cell_type": "code",
   "execution_count": 5,
   "id": "95714b39",
   "metadata": {},
   "outputs": [],
   "source": [
    "def heapify(arr, n, root_index):\n",
    "    largest = root_index\n",
    "    left_child_index = 2 * root_index + 1\n",
    "    right_child_index = 2 * root_index + 2\n",
    "\n",
    "    if left_child_index < n and arr[left_child_index] > arr[largest]:\n",
    "        largest = left_child_index\n",
    "\n",
    "    if right_child_index < n and arr[right_child_index] > arr[largest]:\n",
    "        largest = right_child_index\n",
    "\n",
    "    if largest != root_index:\n",
    "        arr[root_index], arr[largest] = arr[largest], arr[root_index]\n",
    "        heapify(arr, n, largest)\n",
    "\n",
    "def heap_sort(arr):\n",
    "    n = len(arr)\n",
    "\n",
    "    for i in range(n // 2 - 1, -1, -1):\n",
    "        heapify(arr, n, i)\n",
    "\n",
    "    for i in range(n - 1, 0, -1):\n",
    "        arr[i], arr[0] = arr[0], arr[i]\n",
    "        heapify(arr, i, 0)\n",
    "\n",
    "    return arr"
   ]
  },
  {
   "cell_type": "code",
   "execution_count": 9,
   "id": "df307dd2",
   "metadata": {},
   "outputs": [
    {
     "name": "stdout",
     "output_type": "stream",
     "text": [
      "Bubble sort: [7, 18, 42, 60, 99]\n",
      "Selection sort: [7, 18, 42, 60, 99]\n",
      "Insertion sort: [7, 18, 42, 60, 99]\n",
      "Merge sort: [7, 18, 42, 60, 99]\n",
      "Quick sort: [7, 18, 42, 60, 99]\n",
      "Heap sort: [7, 18, 42, 60, 99]\n"
     ]
    }
   ],
   "source": [
    "arr = [99, 42, 18, 60, 7]\n",
    "print(\"Bubble sort:\",bubble_sort(arr))\n",
    "print(\"Selection sort:\",selection_sort(arr))\n",
    "print(\"Insertion sort:\",insertion_sort(arr))\n",
    "print('Merge sort:',merge_sort(arr))\n",
    "print('Quick sort:',quick_sort(arr))\n",
    "print('Heap sort:',heap_sort(arr))"
   ]
  }
 ],
 "metadata": {
  "kernelspec": {
   "display_name": "Python 3",
   "language": "python",
   "name": "python3"
  },
  "language_info": {
   "codemirror_mode": {
    "name": "ipython",
    "version": 3
   },
   "file_extension": ".py",
   "mimetype": "text/x-python",
   "name": "python",
   "nbconvert_exporter": "python",
   "pygments_lexer": "ipython3",
   "version": "3.10.17"
  }
 },
 "nbformat": 4,
 "nbformat_minor": 5
}
